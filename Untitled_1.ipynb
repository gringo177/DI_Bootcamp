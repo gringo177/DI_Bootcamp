{
 "cells": [
  {
   "cell_type": "code",
   "execution_count": null,
   "id": "2fe5249f-81de-48dd-81ad-340c03c6538e",
   "metadata": {},
   "outputs": [],
   "source": [
    "import pandas as pd\n",
    "import matplotlib.pyplot as plt\n",
    "\n",
    "url = 'https://raw.githubusercontent.com/benubah/starbucks-menu/master/starbucks_drinkMenu_expanded.csv'\n",
    "starbucks = pd.read_csv(url)\n",
    "\n",
    "print(\"First 10 entries of 'starbucks' DataFrame:\")\n",
    "print(starbucks.head(10))\n",
    "\n",
    "total_entries = starbucks.shape[0]\n",
    "print(\"Total number of entries:\", total_entries)\n",
    "\n",
    "column_names = starbucks.columns\n",
    "print(\"Column names:\", column_names)\n",
    "\n",
    "data_index = starbucks.index\n",
    "print(\"DataFrame index:\", data_index)\n",
    "\n",
    "drink_most_sugar = starbucks.groupby('Beverage_category')[' Sugars (g)'].mean().idxmax()\n",
    "print(\"Drink category with most sugar on average:\", drink_most_sugar)\n",
    "\n",
    "num_categories = starbucks['Beverage_category'].nunique()\n",
    "print(\"Number of different drink categories:\", num_categories)\n",
    "\n",
    "top_categories = starbucks['Beverage_category'].value_counts().head(5)\n",
    "print(\"5 most frequent drink categories:\")\n",
    "print(top_categories)\n",
    "\n",
    "avg_calories_per_category = starbucks.groupby('Beverage_category')[' Calorie'].mean()\n",
    "print(\"Average calorie content per drink category:\")\n",
    "print(avg_calories_per_category)\n",
    "\n",
    "starbucks['caffeine_to_calories'] = starbucks[' Caffeine (mg)'] / starbucks[' Calorie']\n",
    "\n",
    "category_highest_caffeine_to_calories = starbucks.groupby('Beverage_category')['caffeine_to_calories'].mean().idxmax()\n",
    "print(\"Drink category with highest caffeine to calories ratio:\", category_highest_caffeine_to_calories)\n",
    "\n",
    "plt.figure(figsize=(10, 6))\n",
    "avg_caffeine_to_calories_plot = starbucks.groupby('Beverage_category')['caffeine_to_calories'].mean().sort_values(ascending=False)\n",
    "avg_caffeine_to_calories_plot.plot(kind='barh')\n",
    "plt.xlabel('Average Caffeine to Calories Ratio')\n",
    "plt.ylabel('Drink Category')\n",
    "plt.title('Average Caffeine to Calories Ratio by Drink Category')\n",
    "plt.show()\n",
    "\n"
   ]
  }
 ],
 "metadata": {
  "kernelspec": {
   "display_name": "Python 3 (ipykernel)",
   "language": "python",
   "name": "python3"
  },
  "language_info": {
   "codemirror_mode": {
    "name": "ipython",
    "version": 3
   },
   "file_extension": ".py",
   "mimetype": "text/x-python",
   "name": "python",
   "nbconvert_exporter": "python",
   "pygments_lexer": "ipython3",
   "version": "3.11.4"
  }
 },
 "nbformat": 4,
 "nbformat_minor": 5
}
