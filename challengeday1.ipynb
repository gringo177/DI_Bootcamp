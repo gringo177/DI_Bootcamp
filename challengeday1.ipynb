{
  "metadata": {
    "language_info": {
      "codemirror_mode": {
        "name": "python",
        "version": 3
      },
      "file_extension": ".py",
      "mimetype": "text/x-python",
      "name": "python",
      "nbconvert_exporter": "python",
      "pygments_lexer": "ipython3",
      "version": "3.8"
    },
    "kernelspec": {
      "name": "python",
      "display_name": "Python (Pyodide)",
      "language": "python"
    }
  },
  "nbformat_minor": 4,
  "nbformat": 4,
  "cells": [
    {
      "cell_type": "code",
      "source": "import numpy as np\n\n#  1 \ndata = np.array(np.random.randint(1, 100, size=25)).reshape(5, 5)\ndata[[1, 3]] = data[[3, 1]]\nprint(data)\n\n#  2 \nnormalized_data = (data - np.min(data)) / (np.max(data) - np.min(data))\nprint(normalized_data)\n\n#  3 \nz_score_data = (data - np.mean(data)) / np.std(data)\nprint(z_score_data)\n\n#  4 \nvector_data = np.ravel(data)\nsub_arrays = np.split(vector_data, 5)\nprint(sub_arrays)\n\n#  5 \nvector1 = np.array([3, 5, 6, 7, 8])\nvector2 = np.array([2, 4, 6, 8, 10])\ndot_product = np.dot(vector1, vector2)\nprint(dot_product)\n\n#  6 \ndata2 = np.array([[2, 3, 4], [5, 6, 7], [8, 9, 10]])\nmatrix_multiplication = np.dot(data[:3, :3], data2)\nprint(matrix_multiplication)\n\n#  7 \nidentity_matrix = np.eye(3) * 2\ninverse_matrix = np.linalg.inv(identity_matrix)\nprint(inverse_matrix)\n\n#  8 \neigenvalues, eigenvectors = np.linalg.eig(data[:3, :3])\nprint(\"Eigenvalues:\", eigenvalues)\nprint(\"Eigenvectors:\", eigenvectors)\n\n# 9 \nnp.random.seed(42)\nmissing_indices = np.random.choice(data.size, 5, replace=False)\ndata.ravel()[missing_indices] = np.nan\nmissing_indices = np.where(np.isnan(data))\nprint(missing_indices)\n\n# 10 \nmean_value = np.nanmean(data)\ndata[missing_indices] = mean_value\nprint(data)\n",
      "metadata": {},
      "execution_count": null,
      "outputs": []
    }
  ]
}