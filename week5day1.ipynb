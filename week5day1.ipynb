{
  "metadata": {
    "language_info": {
      "codemirror_mode": {
        "name": "python",
        "version": 3
      },
      "file_extension": ".py",
      "mimetype": "text/x-python",
      "name": "python",
      "nbconvert_exporter": "python",
      "pygments_lexer": "ipython3",
      "version": "3.8"
    },
    "kernelspec": {
      "name": "python",
      "display_name": "Python (Pyodide)",
      "language": "python"
    }
  },
  "nbformat_minor": 4,
  "nbformat": 4,
  "cells": [
    {
      "cell_type": "code",
      "source": "import numpy as np\n\n#  1\nzeros_vector = np.zeros(10)\nprint(zeros_vector)\n\n#  2\narray = np.array([1, 2, 3, 4, 5])\nmemory_size = array.size * array.itemsize\nprint(memory_size)\n\n# T 3\nnp.info(np.add)\n\n#  4\nvector = np.arange(10, 50)\nprint(vector)\n\n#  5\nreversed_vector = vector[::-1]\nprint(reversed_vector)\n\n#  6\nmatrix = np.arange(9).reshape(3, 3)\nprint(matrix)\n\n#  7\nnon_zero_indices = np.nonzero([1, 2, 0, 0, 4, 0])\nprint(non_zero_indices)\n\n#  8\nidentity_matrix = np.eye(3)\nprint(identity_matrix)\n\n#  9\nrow_values_matrix = np.tile(np.arange(5), (5, 1))\nprint(row_values_matrix)\n\n#  10\nvector = np.linspace(0.1, 0.9, 10)\nprint(vector)\n\n# 11\nrandom_vector = np.random.rand(10)\nsorted_vector = np.sort(random_vector)\nprint(sorted_vector)\n\n# 12\nfor dtype in [np.int8, np.int32, np.int64, np.float32, np.float64]:\n    info = np.iinfo(dtype)\n    print(f\"Minimum value for {dtype}: {info.min}\")\n    print(f\"Maximum value for {dtype}: {info.max}\")\n\n#  13\nfloat_array = np.array([1.5, 2.7, 3.2], dtype=np.float32)\nint_array = float_array.astype(np.int32)\nprint(int_array)\n\n#  14\nmatrix = np.array([[1, 2, 3], [4, 5, 6], [7, 8, 9]])\nmean_subtracted = matrix - np.mean(matrix, axis=1, keepdims=True)\nprint(mean_subtracted)\n\n# 15\narray = np.array([[3, 4, 1], [2, 5, 0]])\nsorted_array = array[:, array[1].argsort()]\nprint(sorted_array)\n\n#  16\narray = np.array([[0, 1, 2], [3, 4, 5], [6, 7, 8]])\narray[[0, 1]] = array[[1, 0]]\nprint(array)\n\n# 17\nC = np.bincount([1, 2, 2, 3, 4, 4, 4])\nA = np.repeat(np.arange(len(C)), C)\nprint(A)",
      "metadata": {},
      "execution_count": null,
      "outputs": []
    }
  ]
}